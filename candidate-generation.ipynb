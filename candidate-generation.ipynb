{
 "cells": [
  {
   "cell_type": "markdown",
   "metadata": {},
   "source": [
    "# Candidate generation"
   ]
  },
  {
   "cell_type": "code",
   "execution_count": 3,
   "metadata": {},
   "outputs": [
    {
     "name": "stderr",
     "output_type": "stream",
     "text": [
      "100%|██████████| 100/100 [00:06<00:00, 14.35it/s]\n"
     ]
    }
   ],
   "source": [
    "import zipfile\n",
    "from tqdm import tqdm\n",
    "import orc\n",
    "\n",
    "ocr = orc.ocr.GCPVision()\n",
    "documents = []\n",
    "\n",
    "with zipfile.ZipFile('data/invoices/files.zip') as z:\n",
    "    for invoice in tqdm(list((zipfile.Path(z) / \"files\").iterdir())[:100]):\n",
    "        content = invoice.read_bytes()\n",
    "        document = ocr(content, key=invoice.name)\n",
    "        documents.append(document)"
   ]
  },
  {
   "cell_type": "code",
   "execution_count": 7,
   "metadata": {},
   "outputs": [],
   "source": [
    "def named(name, pattern):\n",
    "    return f\"(?P<{name}>{pattern})\"\n",
    "\n",
    "def any_of(*patterns):\n",
    "    return \"(\" + \"|\".join(patterns) + \")\"\n",
    "\n",
    "\n",
    "YYYY = named(\"YYYY\", r\"\\d{4}\")\n",
    "MM = named(\"MM\", r\"\\d{1,2}\")\n",
    "DD = named(\"DD\", r\"\\d{1,2}\")\n",
    "SEP = any_of(r'\\-', r'\\s', '')\n",
    "\n",
    "\n",
    "class YYYYMMDD:\n",
    "\n",
    "    @property\n",
    "    def pattern(self):\n",
    "        return f'{YYYY}{SEP}{MM}{SEP}{DD}'\n",
    "\n",
    "    def parse(self, raw):\n",
    "        return dt.date(\n",
    "            year=int(raw.group('YYYY')),\n",
    "            month=int(raw.group('MM')),\n",
    "            day=int(raw.group('DD'))\n",
    "        )"
   ]
  },
  {
   "cell_type": "code",
   "execution_count": 15,
   "metadata": {},
   "outputs": [
    {
     "name": "stdout",
     "output_type": "stream",
     "text": [
      "69000356\n",
      "\n",
      " 349 783\n",
      "S\n",
      "(349 783\n",
      "\n",
      "\n",
      "944 0003\n",
      "S\n",
      "(944 0003\n",
      "\n",
      " 69002\n",
      "S\n",
      "(69002\n",
      "\n",
      " 69002\n",
      "S\n",
      "(69002\n",
      "\n",
      "04 78 38\n",
      "  S\n",
      "04P78 38\n",
      "\n",
      "09/2011\n",
      "  S\n",
      "09P2011\n",
      "\n"
     ]
    }
   ],
   "source": [
    "for candidate in orc.candidates.search(documents[0], YYYYMMDD().pattern):\n",
    "    print(candidate)\n",
    "    print()"
   ]
  },
  {
   "cell_type": "markdown",
   "metadata": {},
   "source": [
    "## TODO\n",
    "\n",
    "The above doesn't work correctly, due to the way the `NearMatch` class works. The list of edits is not correct."
   ]
  }
 ],
 "metadata": {
  "kernelspec": {
   "display_name": "Python 3.9.7 ('.venv': poetry)",
   "language": "python",
   "name": "python3"
  },
  "language_info": {
   "codemirror_mode": {
    "name": "ipython",
    "version": 3
   },
   "file_extension": ".py",
   "mimetype": "text/x-python",
   "name": "python",
   "nbconvert_exporter": "python",
   "pygments_lexer": "ipython3",
   "version": "3.9.7"
  },
  "orig_nbformat": 4,
  "vscode": {
   "interpreter": {
    "hash": "f9f0fc06075d5f7ca35ae3929094630f931f70326b5479b7e9a8e1651fc2ed0a"
   }
  }
 },
 "nbformat": 4,
 "nbformat_minor": 2
}
