{
 "cells": [
  {
   "cell_type": "markdown",
   "metadata": {},
   "source": [
    "# Approximate matching"
   ]
  },
  {
   "cell_type": "code",
   "execution_count": 1,
   "metadata": {},
   "outputs": [],
   "source": [
    "%load_ext autoreload\n",
    "%autoreload 2"
   ]
  },
  {
   "cell_type": "markdown",
   "metadata": {},
   "source": [
    "## Near matches"
   ]
  },
  {
   "cell_type": "code",
   "execution_count": 13,
   "metadata": {},
   "outputs": [
    {
     "name": "stdout",
     "output_type": "stream",
     "text": [
      "2021-02-04\n",
      "   S\n",
      "2020-02-04\n",
      "         S\n",
      "2020-02-05\n",
      "     D\n",
      "2020-2-05\n",
      "\n"
     ]
    }
   ],
   "source": [
    "import orc\n",
    "from dataclasses import dataclass\n",
    "import regex\n",
    "\n",
    "text = \"I went to see Dr. House. The date was 2021-02-04. It cost 60 euros.\"\n",
    "specimen = \"2020-2-05\"\n",
    "pattern = specimen.replace('-', r'\\-')\n",
    "fuzzy_pattern = f\"({pattern})\" + \"{s<=3,i<=3,d<=3}\"\n",
    "\n",
    "#text = 'anaconda foo bar'\n",
    "#specimen = 'fuu'\n",
    "#pattern = specimen\n",
    "#fuzzy_pattern = f\"({pattern})\" + \"{i<=2,d<=2,e<=5}\"\n",
    "\n",
    "for m in regex.finditer(\n",
    "    fuzzy_pattern, text, regex.BESTMATCH#, overlapped=True\n",
    "):\n",
    "\n",
    "    near_match = orc.NearMatch.from_regex(m, specimen)\n",
    "    print(near_match)\n",
    "    #print(near_match.edits.do(m.group()))\n",
    "    assert near_match.edits.do(m.group()) == specimen\n"
   ]
  }
 ],
 "metadata": {
  "interpreter": {
   "hash": "01c4ba439edb83ce9fc4246c2622fd8ea161cda9283d7f5e8e66732b79b02bbd"
  },
  "kernelspec": {
   "display_name": "Python 3.8.6 64-bit ('3.8.6': pyenv)",
   "language": "python",
   "name": "python3"
  },
  "language_info": {
   "codemirror_mode": {
    "name": "ipython",
    "version": 3
   },
   "file_extension": ".py",
   "mimetype": "text/x-python",
   "name": "python",
   "nbconvert_exporter": "python",
   "pygments_lexer": "ipython3",
   "version": "3.8.6"
  },
  "orig_nbformat": 4
 },
 "nbformat": 4,
 "nbformat_minor": 2
}
