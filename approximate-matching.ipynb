{
 "cells": [
  {
   "cell_type": "markdown",
   "metadata": {},
   "source": [
    "# Approximate matching"
   ]
  },
  {
   "cell_type": "code",
   "execution_count": 1,
   "metadata": {},
   "outputs": [],
   "source": [
    "%load_ext autoreload\n",
    "%autoreload 2"
   ]
  },
  {
   "cell_type": "markdown",
   "metadata": {},
   "source": [
    "## Near matches"
   ]
  },
  {
   "cell_type": "code",
   "execution_count": 1,
   "metadata": {},
   "outputs": [
    {
     "name": "stdout",
     "output_type": "stream",
     "text": [
      "NearMatch(specimen='fuu', candidate='f', start=9, end=10, edits=Edits(substitutions=[], insertions=[Insertion(at=1, new='u'), Insertion(at=2, new='u')], deletions=[]))\n",
      "fuu\n"
     ]
    }
   ],
   "source": [
    "import orc\n",
    "from dataclasses import dataclass\n",
    "import regex\n",
    "\n",
    "text = \"I went to see Dr. House. The date was 2021-02-04. It cost 60 euros.\"\n",
    "specimen = \"2020-2-05\"\n",
    "pattern = specimen.replace('-', r'\\-')\n",
    "fuzzy_pattern = f\"({pattern})\" + \"{s<=3,i<=3,d<=3}\"\n",
    "\n",
    "text = 'anaconda foo bar'\n",
    "specimen = 'fuu'\n",
    "pattern = specimen\n",
    "fuzzy_pattern = f\"({pattern})\" + \"{i<=2,d<=2,e<=5}\"\n",
    "\n",
    "for m in regex.finditer(\n",
    "    fuzzy_pattern, text, regex.BESTMATCH#, overlapped=True\n",
    "):\n",
    "\n",
    "    near_match = orc.NearMatch.from_regex(m, specimen)\n",
    "    print(near_match)\n",
    "    print(near_match.edits.do(m.group()))\n",
    "    assert near_match.edits.do(m.group()) == specimen\n"
   ]
  },
  {
   "cell_type": "code",
   "execution_count": null,
   "metadata": {},
   "outputs": [],
   "source": [
    "\n",
    "    # near_match = NearMatch(\n",
    "    #     specimen=specimen,\n",
    "    #     pattern=fuzzy_pattern,\n",
    "    #     candidate=m.group(),\n",
    "    #     start=m.start(),\n",
    "    #     end=m.end(),\n",
    "    #     edit_sequence=orc.Edits(\n",
    "    #         substitutions=[\n",
    "    #             orc.Substitution(at - m.start(), specimen[at - m.start()])\n",
    "    #             for at in m.fuzzy_changes[0]\n",
    "    #         ],\n",
    "    #         insertions=[\n",
    "    #             orc.Insertion(at - m.start(), specimen[at - m.start()])\n",
    "    #             for at in m.fuzzy_changes[1]\n",
    "    #         ],\n",
    "    #         deletions=[\n",
    "    #             orc.Deletion(at - m.start())\n",
    "    #             for at in m.fuzzy_changes[2]\n",
    "    #         ]\n",
    "    #     )\n",
    "    # )"
   ]
  },
  {
   "cell_type": "code",
   "execution_count": null,
   "metadata": {},
   "outputs": [],
   "source": []
  }
 ],
 "metadata": {
  "interpreter": {
   "hash": "01c4ba439edb83ce9fc4246c2622fd8ea161cda9283d7f5e8e66732b79b02bbd"
  },
  "kernelspec": {
   "display_name": "Python 3.8.6 64-bit ('3.8.6': pyenv)",
   "language": "python",
   "name": "python3"
  },
  "language_info": {
   "codemirror_mode": {
    "name": "ipython",
    "version": 3
   },
   "file_extension": ".py",
   "mimetype": "text/x-python",
   "name": "python",
   "nbconvert_exporter": "python",
   "pygments_lexer": "ipython3",
   "version": "3.8.6"
  },
  "orig_nbformat": 4
 },
 "nbformat": 4,
 "nbformat_minor": 2
}
