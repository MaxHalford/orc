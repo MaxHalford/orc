{
 "cells": [
  {
   "cell_type": "markdown",
   "metadata": {},
   "source": [
    "# Approximate matching"
   ]
  },
  {
   "cell_type": "markdown",
   "metadata": {},
   "source": [
    "## Near matches"
   ]
  },
  {
   "cell_type": "code",
   "execution_count": 6,
   "metadata": {},
   "outputs": [
    {
     "name": "stdout",
     "output_type": "stream",
     "text": [
      "2021-02-04\n",
      "   S\n",
      "2020-02-04\n",
      "         S\n",
      "2020-02-05\n",
      "     D\n",
      "2020-2-05\n"
     ]
    }
   ],
   "source": [
    "import orc\n",
    "from dataclasses import dataclass\n",
    "import regex\n",
    "\n",
    "text = \"I went to see Dr. House. The date was 2021-02-04. It cost 60 euros.\"\n",
    "specimen = \"2020-2-05\"\n",
    "pattern = specimen.replace('-', r'\\-')\n",
    "fuzzy_pattern = f\"({pattern})\" + \"{s<=3,i<=3,d<=3}\"\n",
    "\n",
    "for m in regex.finditer(\n",
    "    fuzzy_pattern, text, regex.BESTMATCH#, overlapped=True\n",
    "):\n",
    "\n",
    "    near_match = orc.edit.NearMatch.from_regex(m, specimen)\n",
    "    print(near_match)\n",
    "    #print(near_match.edits.do(m.group()))\n",
    "    assert near_match.edits.do(m.group()) == specimen\n"
   ]
  }
 ],
 "metadata": {
  "kernelspec": {
   "display_name": "Python 3.9.7 ('.venv': poetry)",
   "language": "python",
   "name": "python3"
  },
  "language_info": {
   "codemirror_mode": {
    "name": "ipython",
    "version": 3
   },
   "file_extension": ".py",
   "mimetype": "text/x-python",
   "name": "python",
   "nbconvert_exporter": "python",
   "pygments_lexer": "ipython3",
   "version": "3.9.7"
  },
  "orig_nbformat": 4,
  "vscode": {
   "interpreter": {
    "hash": "f9f0fc06075d5f7ca35ae3929094630f931f70326b5479b7e9a8e1651fc2ed0a"
   }
  }
 },
 "nbformat": 4,
 "nbformat_minor": 2
}
