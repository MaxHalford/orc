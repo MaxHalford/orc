{
 "cells": [
  {
   "cell_type": "markdown",
   "metadata": {},
   "source": [
    "# Approximate matching"
   ]
  },
  {
   "cell_type": "markdown",
   "metadata": {},
   "source": [
    "## Near matches"
   ]
  },
  {
   "cell_type": "code",
   "execution_count": 9,
   "metadata": {},
   "outputs": [
    {
     "ename": "ImportError",
     "evalue": "dlopen(/Users/max/projects/orc/.venv/lib/python3.10/site-packages/grpc/_cython/cygrpc.cpython-310-darwin.so, 0x0002): tried: '/Users/max/projects/orc/.venv/lib/python3.10/site-packages/grpc/_cython/cygrpc.cpython-310-darwin.so' (mach-o file, but is an incompatible architecture (have 'x86_64', need 'arm64')), '/System/Volumes/Preboot/Cryptexes/OS/Users/max/projects/orc/.venv/lib/python3.10/site-packages/grpc/_cython/cygrpc.cpython-310-darwin.so' (no such file), '/Users/max/projects/orc/.venv/lib/python3.10/site-packages/grpc/_cython/cygrpc.cpython-310-darwin.so' (mach-o file, but is an incompatible architecture (have 'x86_64', need 'arm64'))",
     "output_type": "error",
     "traceback": [
      "\u001b[0;31m---------------------------------------------------------------------------\u001b[0m",
      "\u001b[0;31mImportError\u001b[0m                               Traceback (most recent call last)",
      "\u001b[1;32m/Users/max/projects/orc/notebooks/approximate-matching.ipynb Cell 3\u001b[0m in \u001b[0;36m<cell line: 1>\u001b[0;34m()\u001b[0m\n\u001b[0;32m----> <a href='vscode-notebook-cell:/Users/max/projects/orc/notebooks/approximate-matching.ipynb#W3sZmlsZQ%3D%3D?line=0'>1</a>\u001b[0m \u001b[39mimport\u001b[39;00m \u001b[39morc\u001b[39;00m\n\u001b[1;32m      <a href='vscode-notebook-cell:/Users/max/projects/orc/notebooks/approximate-matching.ipynb#W3sZmlsZQ%3D%3D?line=1'>2</a>\u001b[0m \u001b[39mfrom\u001b[39;00m \u001b[39mdataclasses\u001b[39;00m \u001b[39mimport\u001b[39;00m dataclass\n\u001b[1;32m      <a href='vscode-notebook-cell:/Users/max/projects/orc/notebooks/approximate-matching.ipynb#W3sZmlsZQ%3D%3D?line=2'>3</a>\u001b[0m \u001b[39mimport\u001b[39;00m \u001b[39mregex\u001b[39;00m\n",
      "File \u001b[0;32m~/projects/orc/orc/__init__.py:1\u001b[0m, in \u001b[0;36m<module>\u001b[0;34m\u001b[0m\n\u001b[0;32m----> 1\u001b[0m \u001b[39mfrom\u001b[39;00m \u001b[39m.\u001b[39;00m \u001b[39mimport\u001b[39;00m ocr, char_sim, edit, candidates\n",
      "File \u001b[0;32m~/projects/orc/orc/ocr.py:9\u001b[0m, in \u001b[0;36m<module>\u001b[0;34m\u001b[0m\n\u001b[1;32m      7\u001b[0m \u001b[39mimport\u001b[39;00m \u001b[39mtextwrap\u001b[39;00m\n\u001b[1;32m      8\u001b[0m \u001b[39mfrom\u001b[39;00m \u001b[39mtyping\u001b[39;00m \u001b[39mimport\u001b[39;00m Any, List\n\u001b[0;32m----> 9\u001b[0m \u001b[39mfrom\u001b[39;00m \u001b[39mgoogle\u001b[39;00m\u001b[39m.\u001b[39;00m\u001b[39mcloud\u001b[39;00m \u001b[39mimport\u001b[39;00m vision\n\u001b[1;32m     12\u001b[0m \u001b[39m@dataclasses\u001b[39m\u001b[39m.\u001b[39mdataclass\n\u001b[1;32m     13\u001b[0m \u001b[39mclass\u001b[39;00m \u001b[39mPoint\u001b[39;00m(dataclasses_json\u001b[39m.\u001b[39mDataClassJsonMixin):\n\u001b[1;32m     14\u001b[0m     x: \u001b[39mfloat\u001b[39m\n",
      "File \u001b[0;32m~/projects/orc/.venv/lib/python3.10/site-packages/google/cloud/vision/__init__.py:18\u001b[0m, in \u001b[0;36m<module>\u001b[0;34m\u001b[0m\n\u001b[1;32m      1\u001b[0m \u001b[39m# -*- coding: utf-8 -*-\u001b[39;00m\n\u001b[1;32m      2\u001b[0m \n\u001b[1;32m      3\u001b[0m \u001b[39m# Copyright 2020 Google LLC\u001b[39;00m\n\u001b[0;32m   (...)\u001b[0m\n\u001b[1;32m     15\u001b[0m \u001b[39m# limitations under the License.\u001b[39;00m\n\u001b[1;32m     16\u001b[0m \u001b[39m#\u001b[39;00m\n\u001b[0;32m---> 18\u001b[0m \u001b[39mfrom\u001b[39;00m \u001b[39mgoogle\u001b[39;00m\u001b[39m.\u001b[39;00m\u001b[39mcloud\u001b[39;00m\u001b[39m.\u001b[39;00m\u001b[39mvision_v1\u001b[39;00m\u001b[39m.\u001b[39;00m\u001b[39mservices\u001b[39;00m\u001b[39m.\u001b[39;00m\u001b[39mimage_annotator\u001b[39;00m\u001b[39m.\u001b[39;00m\u001b[39masync_client\u001b[39;00m \u001b[39mimport\u001b[39;00m (\n\u001b[1;32m     19\u001b[0m     ImageAnnotatorAsyncClient,\n\u001b[1;32m     20\u001b[0m )\n\u001b[1;32m     21\u001b[0m \u001b[39mfrom\u001b[39;00m \u001b[39mgoogle\u001b[39;00m\u001b[39m.\u001b[39;00m\u001b[39mcloud\u001b[39;00m\u001b[39m.\u001b[39;00m\u001b[39mvision_v1\u001b[39;00m \u001b[39mimport\u001b[39;00m ImageAnnotatorClient\n\u001b[1;32m     22\u001b[0m \u001b[39mfrom\u001b[39;00m \u001b[39mgoogle\u001b[39;00m\u001b[39m.\u001b[39;00m\u001b[39mcloud\u001b[39;00m\u001b[39m.\u001b[39;00m\u001b[39mvision_v1\u001b[39;00m\u001b[39m.\u001b[39;00m\u001b[39mservices\u001b[39;00m\u001b[39m.\u001b[39;00m\u001b[39mproduct_search\u001b[39;00m\u001b[39m.\u001b[39;00m\u001b[39masync_client\u001b[39;00m \u001b[39mimport\u001b[39;00m (\n\u001b[1;32m     23\u001b[0m     ProductSearchAsyncClient,\n\u001b[1;32m     24\u001b[0m )\n",
      "File \u001b[0;32m~/projects/orc/.venv/lib/python3.10/site-packages/google/cloud/vision_v1/services/image_annotator/__init__.py:16\u001b[0m, in \u001b[0;36m<module>\u001b[0;34m\u001b[0m\n\u001b[1;32m      1\u001b[0m \u001b[39m# -*- coding: utf-8 -*-\u001b[39;00m\n\u001b[1;32m      2\u001b[0m \u001b[39m# Copyright 2022 Google LLC\u001b[39;00m\n\u001b[1;32m      3\u001b[0m \u001b[39m#\u001b[39;00m\n\u001b[0;32m   (...)\u001b[0m\n\u001b[1;32m     14\u001b[0m \u001b[39m# limitations under the License.\u001b[39;00m\n\u001b[1;32m     15\u001b[0m \u001b[39m#\u001b[39;00m\n\u001b[0;32m---> 16\u001b[0m \u001b[39mfrom\u001b[39;00m \u001b[39m.\u001b[39;00m\u001b[39mclient\u001b[39;00m \u001b[39mimport\u001b[39;00m ImageAnnotatorClient\n\u001b[1;32m     17\u001b[0m \u001b[39mfrom\u001b[39;00m \u001b[39m.\u001b[39;00m\u001b[39masync_client\u001b[39;00m \u001b[39mimport\u001b[39;00m ImageAnnotatorAsyncClient\n\u001b[1;32m     19\u001b[0m __all__ \u001b[39m=\u001b[39m (\n\u001b[1;32m     20\u001b[0m     \u001b[39m\"\u001b[39m\u001b[39mImageAnnotatorClient\u001b[39m\u001b[39m\"\u001b[39m,\n\u001b[1;32m     21\u001b[0m     \u001b[39m\"\u001b[39m\u001b[39mImageAnnotatorAsyncClient\u001b[39m\u001b[39m\"\u001b[39m,\n\u001b[1;32m     22\u001b[0m )\n",
      "File \u001b[0;32m~/projects/orc/.venv/lib/python3.10/site-packages/google/cloud/vision_v1/services/image_annotator/client.py:24\u001b[0m, in \u001b[0;36m<module>\u001b[0;34m\u001b[0m\n\u001b[1;32m     22\u001b[0m \u001b[39mfrom\u001b[39;00m \u001b[39mgoogle\u001b[39;00m\u001b[39m.\u001b[39;00m\u001b[39mapi_core\u001b[39;00m \u001b[39mimport\u001b[39;00m client_options \u001b[39mas\u001b[39;00m client_options_lib\n\u001b[1;32m     23\u001b[0m \u001b[39mfrom\u001b[39;00m \u001b[39mgoogle\u001b[39;00m\u001b[39m.\u001b[39;00m\u001b[39mapi_core\u001b[39;00m \u001b[39mimport\u001b[39;00m exceptions \u001b[39mas\u001b[39;00m core_exceptions\n\u001b[0;32m---> 24\u001b[0m \u001b[39mfrom\u001b[39;00m \u001b[39mgoogle\u001b[39;00m\u001b[39m.\u001b[39;00m\u001b[39mapi_core\u001b[39;00m \u001b[39mimport\u001b[39;00m gapic_v1\n\u001b[1;32m     25\u001b[0m \u001b[39mfrom\u001b[39;00m \u001b[39mgoogle\u001b[39;00m\u001b[39m.\u001b[39;00m\u001b[39mapi_core\u001b[39;00m \u001b[39mimport\u001b[39;00m retry \u001b[39mas\u001b[39;00m retries\n\u001b[1;32m     26\u001b[0m \u001b[39mfrom\u001b[39;00m \u001b[39mgoogle\u001b[39;00m\u001b[39m.\u001b[39;00m\u001b[39mauth\u001b[39;00m \u001b[39mimport\u001b[39;00m credentials \u001b[39mas\u001b[39;00m ga_credentials  \u001b[39m# type: ignore\u001b[39;00m\n",
      "File \u001b[0;32m~/projects/orc/.venv/lib/python3.10/site-packages/google/api_core/gapic_v1/__init__.py:16\u001b[0m, in \u001b[0;36m<module>\u001b[0;34m\u001b[0m\n\u001b[1;32m      1\u001b[0m \u001b[39m# Copyright 2017 Google LLC\u001b[39;00m\n\u001b[1;32m      2\u001b[0m \u001b[39m#\u001b[39;00m\n\u001b[1;32m      3\u001b[0m \u001b[39m# Licensed under the Apache License, Version 2.0 (the \"License\");\u001b[39;00m\n\u001b[0;32m   (...)\u001b[0m\n\u001b[1;32m     12\u001b[0m \u001b[39m# See the License for the specific language governing permissions and\u001b[39;00m\n\u001b[1;32m     13\u001b[0m \u001b[39m# limitations under the License.\u001b[39;00m\n\u001b[1;32m     15\u001b[0m \u001b[39mfrom\u001b[39;00m \u001b[39mgoogle\u001b[39;00m\u001b[39m.\u001b[39;00m\u001b[39mapi_core\u001b[39;00m\u001b[39m.\u001b[39;00m\u001b[39mgapic_v1\u001b[39;00m \u001b[39mimport\u001b[39;00m client_info\n\u001b[0;32m---> 16\u001b[0m \u001b[39mfrom\u001b[39;00m \u001b[39mgoogle\u001b[39;00m\u001b[39m.\u001b[39;00m\u001b[39mapi_core\u001b[39;00m\u001b[39m.\u001b[39;00m\u001b[39mgapic_v1\u001b[39;00m \u001b[39mimport\u001b[39;00m config\n\u001b[1;32m     17\u001b[0m \u001b[39mfrom\u001b[39;00m \u001b[39mgoogle\u001b[39;00m\u001b[39m.\u001b[39;00m\u001b[39mapi_core\u001b[39;00m\u001b[39m.\u001b[39;00m\u001b[39mgapic_v1\u001b[39;00m \u001b[39mimport\u001b[39;00m config_async\n\u001b[1;32m     18\u001b[0m \u001b[39mfrom\u001b[39;00m \u001b[39mgoogle\u001b[39;00m\u001b[39m.\u001b[39;00m\u001b[39mapi_core\u001b[39;00m\u001b[39m.\u001b[39;00m\u001b[39mgapic_v1\u001b[39;00m \u001b[39mimport\u001b[39;00m method\n",
      "File \u001b[0;32m~/projects/orc/.venv/lib/python3.10/site-packages/google/api_core/gapic_v1/config.py:23\u001b[0m, in \u001b[0;36m<module>\u001b[0;34m\u001b[0m\n\u001b[1;32m     15\u001b[0m \u001b[39m\"\"\"Helpers for loading gapic configuration data.\u001b[39;00m\n\u001b[1;32m     16\u001b[0m \n\u001b[1;32m     17\u001b[0m \u001b[39mThe Google API generator creates supplementary configuration for each RPC\u001b[39;00m\n\u001b[1;32m     18\u001b[0m \u001b[39mmethod to tell the client library how to deal with retries and timeouts.\u001b[39;00m\n\u001b[1;32m     19\u001b[0m \u001b[39m\"\"\"\u001b[39;00m\n\u001b[1;32m     21\u001b[0m \u001b[39mimport\u001b[39;00m \u001b[39mcollections\u001b[39;00m\n\u001b[0;32m---> 23\u001b[0m \u001b[39mimport\u001b[39;00m \u001b[39mgrpc\u001b[39;00m\n\u001b[1;32m     25\u001b[0m \u001b[39mfrom\u001b[39;00m \u001b[39mgoogle\u001b[39;00m\u001b[39m.\u001b[39;00m\u001b[39mapi_core\u001b[39;00m \u001b[39mimport\u001b[39;00m exceptions\n\u001b[1;32m     26\u001b[0m \u001b[39mfrom\u001b[39;00m \u001b[39mgoogle\u001b[39;00m\u001b[39m.\u001b[39;00m\u001b[39mapi_core\u001b[39;00m \u001b[39mimport\u001b[39;00m retry\n",
      "File \u001b[0;32m~/projects/orc/.venv/lib/python3.10/site-packages/grpc/__init__.py:22\u001b[0m, in \u001b[0;36m<module>\u001b[0;34m\u001b[0m\n\u001b[1;32m     19\u001b[0m \u001b[39mimport\u001b[39;00m \u001b[39mlogging\u001b[39;00m\n\u001b[1;32m     20\u001b[0m \u001b[39mimport\u001b[39;00m \u001b[39msys\u001b[39;00m\n\u001b[0;32m---> 22\u001b[0m \u001b[39mfrom\u001b[39;00m \u001b[39mgrpc\u001b[39;00m \u001b[39mimport\u001b[39;00m _compression\n\u001b[1;32m     23\u001b[0m \u001b[39mfrom\u001b[39;00m \u001b[39mgrpc\u001b[39;00m\u001b[39m.\u001b[39;00m\u001b[39m_cython\u001b[39;00m \u001b[39mimport\u001b[39;00m cygrpc \u001b[39mas\u001b[39;00m _cygrpc\n\u001b[1;32m     24\u001b[0m \u001b[39mfrom\u001b[39;00m \u001b[39mgrpc\u001b[39;00m\u001b[39m.\u001b[39;00m\u001b[39m_runtime_protos\u001b[39;00m \u001b[39mimport\u001b[39;00m protos\n",
      "File \u001b[0;32m~/projects/orc/.venv/lib/python3.10/site-packages/grpc/_compression.py:15\u001b[0m, in \u001b[0;36m<module>\u001b[0;34m\u001b[0m\n\u001b[1;32m      1\u001b[0m \u001b[39m# Copyright 2019 The gRPC authors.\u001b[39;00m\n\u001b[1;32m      2\u001b[0m \u001b[39m#\u001b[39;00m\n\u001b[1;32m      3\u001b[0m \u001b[39m# Licensed under the Apache License, Version 2.0 (the \"License\");\u001b[39;00m\n\u001b[0;32m   (...)\u001b[0m\n\u001b[1;32m     12\u001b[0m \u001b[39m# See the License for the specific language governing permissions and\u001b[39;00m\n\u001b[1;32m     13\u001b[0m \u001b[39m# limitations under the License.\u001b[39;00m\n\u001b[0;32m---> 15\u001b[0m \u001b[39mfrom\u001b[39;00m \u001b[39mgrpc\u001b[39;00m\u001b[39m.\u001b[39;00m\u001b[39m_cython\u001b[39;00m \u001b[39mimport\u001b[39;00m cygrpc\n\u001b[1;32m     17\u001b[0m NoCompression \u001b[39m=\u001b[39m cygrpc\u001b[39m.\u001b[39mCompressionAlgorithm\u001b[39m.\u001b[39mnone\n\u001b[1;32m     18\u001b[0m Deflate \u001b[39m=\u001b[39m cygrpc\u001b[39m.\u001b[39mCompressionAlgorithm\u001b[39m.\u001b[39mdeflate\n",
      "\u001b[0;31mImportError\u001b[0m: dlopen(/Users/max/projects/orc/.venv/lib/python3.10/site-packages/grpc/_cython/cygrpc.cpython-310-darwin.so, 0x0002): tried: '/Users/max/projects/orc/.venv/lib/python3.10/site-packages/grpc/_cython/cygrpc.cpython-310-darwin.so' (mach-o file, but is an incompatible architecture (have 'x86_64', need 'arm64')), '/System/Volumes/Preboot/Cryptexes/OS/Users/max/projects/orc/.venv/lib/python3.10/site-packages/grpc/_cython/cygrpc.cpython-310-darwin.so' (no such file), '/Users/max/projects/orc/.venv/lib/python3.10/site-packages/grpc/_cython/cygrpc.cpython-310-darwin.so' (mach-o file, but is an incompatible architecture (have 'x86_64', need 'arm64'))"
     ]
    }
   ],
   "source": [
    "import orc\n",
    "from dataclasses import dataclass\n",
    "import regex\n",
    "\n",
    "text = \"I went to see Dr. House. The date was 2021-02-04. It cost 60 euros.\"\n",
    "specimen = \"2020-2-05\"\n",
    "pattern = regex.escape(pattern)\n",
    "fuzzy_pattern = f\"({pattern})\" + \"{s<=3,i<=3,d<=3}\"\n",
    "\n",
    "for m in regex.finditer(\n",
    "    fuzzy_pattern, text, regex.BESTMATCH#, overlapped=True\n",
    "):\n",
    "\n",
    "    near_match = orc.edit.NearMatch.from_regex(m, specimen)\n",
    "    print(near_match)\n",
    "    #print(near_match.edits.do(m.group()))\n",
    "    assert near_match.edits.do(m.group()) == specimen\n"
   ]
  }
 ],
 "metadata": {
  "kernelspec": {
   "display_name": "Python 3.9.7 ('.venv': poetry)",
   "language": "python",
   "name": "python3"
  },
  "language_info": {
   "codemirror_mode": {
    "name": "ipython",
    "version": 3
   },
   "file_extension": ".py",
   "mimetype": "text/x-python",
   "name": "python",
   "nbconvert_exporter": "python",
   "pygments_lexer": "ipython3",
   "version": "3.10.8"
  },
  "orig_nbformat": 4,
  "vscode": {
   "interpreter": {
    "hash": "f9f0fc06075d5f7ca35ae3929094630f931f70326b5479b7e9a8e1651fc2ed0a"
   }
  }
 },
 "nbformat": 4,
 "nbformat_minor": 2
}
