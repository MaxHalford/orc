{
 "cells": [
  {
   "cell_type": "markdown",
   "metadata": {},
   "source": [
    "# OCR reading and searching"
   ]
  },
  {
   "cell_type": "code",
   "execution_count": 32,
   "metadata": {},
   "outputs": [
    {
     "name": "stderr",
     "output_type": "stream",
     "text": [
      "100%|██████████| 1000/1000 [00:00<00:00, 12132.68it/s]\n"
     ]
    }
   ],
   "source": [
    "import zipfile\n",
    "from tqdm import tqdm\n",
    "import orc\n",
    "\n",
    "ocr = orc.ocr.GCPVision()\n",
    "\n",
    "with zipfile.ZipFile('data/invoices/files.zip') as z:\n",
    "    for invoice in tqdm(list((zipfile.Path(z) / \"files\").iterdir())):\n",
    "        if ocr.is_cached(invoice.name):\n",
    "            continue\n",
    "        content = invoice.read_bytes()\n",
    "        ocr(content, key=invoice.name)"
   ]
  },
  {
   "cell_type": "code",
   "execution_count": 56,
   "metadata": {},
   "outputs": [],
   "source": [
    "import io\n",
    "from PIL import Image\n",
    "\n",
    "#Image.open(io.BytesIO(content))"
   ]
  },
  {
   "cell_type": "code",
   "execution_count": 57,
   "metadata": {},
   "outputs": [],
   "source": [
    "document = ocr(key=invoice.name)\n",
    "#print(document)"
   ]
  },
  {
   "cell_type": "code",
   "execution_count": 71,
   "metadata": {},
   "outputs": [
    {
     "name": "stdout",
     "output_type": "stream",
     "text": [
      "ostéopathe\n",
      "[WordSpan(word_pos=125, start=2, end=2)]\n",
      "--------------------\n",
      "Ostéopathe\n",
      "S\n",
      "ostéopathe\n",
      "[WordSpan(word_pos=131, start=0, end=1)]\n",
      "--------------------\n"
     ]
    }
   ],
   "source": [
    "for near_match in orc.candidates.search(document, \"ostéopathe\"):\n",
    "    print(near_match)\n",
    "    print(near_match.word_spans)\n",
    "    print('-' * 20)"
   ]
  },
  {
   "cell_type": "code",
   "execution_count": 72,
   "metadata": {},
   "outputs": [
    {
     "name": "stdout",
     "output_type": "stream",
     "text": [
      "Ostéopathe\n",
      "[WordSpan(word_pos=3, start=0, end=10)]\n",
      "--------------------\n",
      "ostéopathe\n",
      "[WordSpan(word_pos=125, start=2, end=2)]\n",
      "--------------------\n",
      "Ostéopathe\n",
      "[WordSpan(word_pos=131, start=0, end=1)]\n",
      "--------------------\n"
     ]
    }
   ],
   "source": [
    "for near_match in orc.candidates.search(document, \"ostéopathe\", case_insensitive=True):\n",
    "    print(near_match)\n",
    "    print(near_match.word_spans)\n",
    "    print('-' * 20)"
   ]
  },
  {
   "cell_type": "markdown",
   "metadata": {},
   "source": [
    "## To do\n",
    "\n",
    "Why does `case_insensitive=True` find a new match? Or rather why is that match not found in the first place?"
   ]
  }
 ],
 "metadata": {
  "interpreter": {
   "hash": "f9f0fc06075d5f7ca35ae3929094630f931f70326b5479b7e9a8e1651fc2ed0a"
  },
  "kernelspec": {
   "display_name": "Python 3.9.7 ('.venv': poetry)",
   "language": "python",
   "name": "python3"
  },
  "language_info": {
   "codemirror_mode": {
    "name": "ipython",
    "version": 3
   },
   "file_extension": ".py",
   "mimetype": "text/x-python",
   "name": "python",
   "nbconvert_exporter": "python",
   "pygments_lexer": "ipython3",
   "version": "3.9.7"
  },
  "orig_nbformat": 4
 },
 "nbformat": 4,
 "nbformat_minor": 2
}
