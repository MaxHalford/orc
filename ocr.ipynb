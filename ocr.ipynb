{
 "cells": [
  {
   "cell_type": "markdown",
   "metadata": {},
   "source": [
    "# OCR reading and searching"
   ]
  },
  {
   "cell_type": "code",
   "execution_count": 2,
   "metadata": {},
   "outputs": [
    {
     "name": "stdout",
     "output_type": "stream",
     "text": [
      "The autoreload extension is already loaded. To reload it, use:\n",
      "  %reload_ext autoreload\n",
      "The rich extension is already loaded. To reload it, use:\n",
      "  %reload_ext rich\n"
     ]
    }
   ],
   "source": [
    "%load_ext autoreload\n",
    "%autoreload 2\n",
    "%load_ext rich"
   ]
  },
  {
   "cell_type": "code",
   "execution_count": 3,
   "metadata": {},
   "outputs": [],
   "source": [
    "import zipfile\n",
    "\n",
    "with zipfile.ZipFile('data/invoices/files.zip') as z:\n",
    "    for invoice in (zipfile.Path(z) / \"files\").iterdir():\n",
    "        content = invoice.read_bytes()\n",
    "        break"
   ]
  },
  {
   "cell_type": "code",
   "execution_count": 14,
   "metadata": {},
   "outputs": [],
   "source": [
    "import io\n",
    "from PIL import Image\n",
    "\n",
    "#Image.open(io.BytesIO(content))"
   ]
  },
  {
   "cell_type": "code",
   "execution_count": 16,
   "metadata": {},
   "outputs": [
    {
     "name": "stdout",
     "output_type": "stream",
     "text": [
      "Franck THERRAS Ostéopathe D.O. N'ADELI : 690003561 N'SIRET : 349 783\n",
      "944 00037 Code APE : 8690F Membre du SFDO FACTURE ACQUITTEE Honoraires\n",
      "libres non conventionnés Je soussigné , Franck THERRAS , Ostéopathe ,\n",
      "certifie avoir reçu ce jour , pour des soins ostéopathiques . N ° de\n",
      "Sécurité sociale : Soit pour un montant de 75 Euros TCC . Franck\n",
      "THERRAS OSTÉOPATHE D.O. - M.R.O.F. 46 , Rue Victor Hugo 69002 LYON 30\n",
      "71 Fait à Lyon , le opport Membre d'une association agréée , le\n",
      "règlement par chèque est accepté 46 , rue Victor Hugo 69002 Lyon Tél .\n",
      ": 04 78 38 30 71 Lyon , le 13/09/2011 MASSON Ame pour faire valoir ce\n",
      "que de droit .\n"
     ]
    }
   ],
   "source": [
    "from orc import ocr\n",
    "\n",
    "OCR = ocr.GCPVision()\n",
    "document = OCR(content, key=invoice.name)\n",
    "print(document)"
   ]
  },
  {
   "cell_type": "code",
   "execution_count": 17,
   "metadata": {},
   "outputs": [
    {
     "name": "stdout",
     "output_type": "stream",
     "text": [
      "HERRAS Ostéo\n",
      "           S\n",
      "HERRAS Ostéa\n",
      "[WordSpan(word_pos=1, start=1, end=7), WordSpan(word_pos=2, start=0, end=5)]\n",
      "--------------------\n",
      "HERRAS , Ostéo\n",
      "             S\n",
      "HERRAS , Ostéa\n",
      "        D\n",
      "HERRAS ,Ostéa\n",
      "       D\n",
      "HERRAS Ostéa\n",
      "[WordSpan(word_pos=28, start=1, end=1), WordSpan(word_pos=29, start=0, end=6), WordSpan(word_pos=30, start=0, end=5)]\n",
      "--------------------\n",
      "HERRAS OSTÉ\n",
      "        S\n",
      "HERRAS OsTÉ\n",
      "         S\n",
      "HERRAS OstÉ\n",
      "          S\n",
      "HERRAS Osté\n",
      "           I\n",
      "HERRAS Ostéa\n",
      "[WordSpan(word_pos=56, start=8, end=2), WordSpan(word_pos=57, start=0, end=4)]\n",
      "--------------------\n"
     ]
    }
   ],
   "source": [
    "import orc\n",
    "\n",
    "for near_match in orc.search(\"HERRAS Ostéa\", document):\n",
    "    print(near_match)\n",
    "    print(near_match.word_spans)\n",
    "    print('-' * 20)"
   ]
  }
 ],
 "metadata": {
  "interpreter": {
   "hash": "f9f0fc06075d5f7ca35ae3929094630f931f70326b5479b7e9a8e1651fc2ed0a"
  },
  "kernelspec": {
   "display_name": "Python 3.9.7 ('.venv': poetry)",
   "language": "python",
   "name": "python3"
  },
  "language_info": {
   "codemirror_mode": {
    "name": "ipython",
    "version": 3
   },
   "file_extension": ".py",
   "mimetype": "text/x-python",
   "name": "python",
   "nbconvert_exporter": "python",
   "pygments_lexer": "ipython3",
   "version": "3.9.7"
  },
  "orig_nbformat": 4
 },
 "nbformat": 4,
 "nbformat_minor": 2
}
