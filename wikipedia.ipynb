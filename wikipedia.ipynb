{
 "cells": [
  {
   "cell_type": "markdown",
   "metadata": {},
   "source": [
    "# Wikipedia typos"
   ]
  },
  {
   "cell_type": "markdown",
   "metadata": {},
   "source": [
    "Found about this [here](https://www.dcs.bbk.ac.uk/~ROGER/corpora.html)."
   ]
  },
  {
   "cell_type": "code",
   "execution_count": 10,
   "metadata": {},
   "outputs": [],
   "source": [
    "%load_ext autoreload\n",
    "%autoreload 2"
   ]
  },
  {
   "cell_type": "code",
   "execution_count": 1,
   "metadata": {},
   "outputs": [],
   "source": [
    "from bs4 import BeautifulSoup\n",
    "import requests\n",
    "\n",
    "url = 'https://en.wikipedia.org/wiki/Wikipedia:Lists_of_common_misspellings/For_machines'\n",
    "\n",
    "content = requests.get(url).content.decode()\n",
    "soup = BeautifulSoup(content)"
   ]
  },
  {
   "cell_type": "code",
   "execution_count": 9,
   "metadata": {},
   "outputs": [
    {
     "name": "stdout",
     "output_type": "stream",
     "text": [
      "3,156 words\n",
      "4,291 misspellings\n"
     ]
    }
   ],
   "source": [
    "from collections import defaultdict\n",
    "\n",
    "typos = defaultdict(list)\n",
    "\n",
    "for line in soup.find(name='pre').text.splitlines():\n",
    "    typo, correct = line.split('->')\n",
    "    typos[correct].append(typo)\n",
    "\n",
    "typos = dict(typos)\n",
    "\n",
    "print(f'{len(typos):,d} words')\n",
    "print(f'{sum(map(len, typos.values())):,d} misspellings')"
   ]
  },
  {
   "cell_type": "code",
   "execution_count": 52,
   "metadata": {},
   "outputs": [],
   "source": [
    "import orc\n",
    "from dataclasses import dataclass\n",
    "import regex\n",
    "\n",
    "for correct, misspellings in typos.items():\n",
    "    for misspelling in misspellings:\n",
    "        \n",
    "        fuzzy_pattern = f\"({correct})\" + \"{s<=3,i<=3,d<=3}\"\n",
    "        for m in regex.finditer(\n",
    "            fuzzy_pattern, misspelling, regex.BESTMATCH\n",
    "        ):\n",
    "            near_match = orc.NearMatch.from_regex(m, correct)\n",
    "            assert near_match.edits.do(m.group()) == correct"
   ]
  }
 ],
 "metadata": {
  "interpreter": {
   "hash": "712e25a4f7ef4ada85fe048cf496411f9b672cd4c067a1b63ca9ed6874444b4f"
  },
  "kernelspec": {
   "display_name": "Python 3.9.7 ('base')",
   "language": "python",
   "name": "python3"
  },
  "language_info": {
   "codemirror_mode": {
    "name": "ipython",
    "version": 3
   },
   "file_extension": ".py",
   "mimetype": "text/x-python",
   "name": "python",
   "nbconvert_exporter": "python",
   "pygments_lexer": "ipython3",
   "version": "3.9.7"
  },
  "orig_nbformat": 4
 },
 "nbformat": 4,
 "nbformat_minor": 2
}
