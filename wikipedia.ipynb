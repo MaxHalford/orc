{
 "cells": [
  {
   "cell_type": "markdown",
   "metadata": {},
   "source": [
    "# Wikipedia typos"
   ]
  },
  {
   "cell_type": "markdown",
   "metadata": {},
   "source": [
    "Found about this [here](https://www.dcs.bbk.ac.uk/~ROGER/corpora.html)."
   ]
  },
  {
   "cell_type": "code",
   "execution_count": 1,
   "metadata": {},
   "outputs": [],
   "source": [
    "from bs4 import BeautifulSoup\n",
    "import requests\n",
    "\n",
    "url = 'https://en.wikipedia.org/wiki/Wikipedia:Lists_of_common_misspellings/For_machines'\n",
    "\n",
    "content = requests.get(url).content.decode()\n",
    "soup = BeautifulSoup(content)"
   ]
  },
  {
   "cell_type": "code",
   "execution_count": 2,
   "metadata": {},
   "outputs": [
    {
     "name": "stdout",
     "output_type": "stream",
     "text": [
      "3,156 words\n",
      "4,291 misspellings\n"
     ]
    }
   ],
   "source": [
    "from collections import defaultdict\n",
    "\n",
    "typos = defaultdict(list)\n",
    "\n",
    "for line in soup.find(name='pre').text.splitlines():\n",
    "    typo, correct = line.split('->')\n",
    "    typos[correct].append(typo)\n",
    "\n",
    "typos = dict(typos)\n",
    "\n",
    "print(f'{len(typos):,d} words')\n",
    "print(f'{sum(map(len, typos.values())):,d} misspellings')"
   ]
  },
  {
   "cell_type": "code",
   "execution_count": 4,
   "metadata": {},
   "outputs": [],
   "source": [
    "from orc import edit\n",
    "from dataclasses import dataclass\n",
    "import regex\n",
    "\n",
    "for correct, misspellings in typos.items():\n",
    "    for misspelling in misspellings:\n",
    "        fuzzy_pattern = f\"({correct})\" + \"{s<=3,i<=3,d<=3}\"\n",
    "        for m in regex.finditer(\n",
    "            fuzzy_pattern, misspelling, regex.BESTMATCH\n",
    "        ):\n",
    "            edits = edit.Edits.from_regex(m, correct)\n",
    "            assert edits.do(m.group()) == correct\n",
    "            assert (-edits).do(correct) == m.group()"
   ]
  }
 ],
 "metadata": {
  "interpreter": {
   "hash": "f9f0fc06075d5f7ca35ae3929094630f931f70326b5479b7e9a8e1651fc2ed0a"
  },
  "kernelspec": {
   "display_name": "Python 3.9.7 ('.venv': poetry)",
   "language": "python",
   "name": "python3"
  },
  "language_info": {
   "codemirror_mode": {
    "name": "ipython",
    "version": 3
   },
   "file_extension": ".py",
   "mimetype": "text/x-python",
   "name": "python",
   "nbconvert_exporter": "python",
   "pygments_lexer": "ipython3",
   "version": "3.9.7"
  },
  "orig_nbformat": 4
 },
 "nbformat": 4,
 "nbformat_minor": 2
}
